{
 "cells": [
  {
   "cell_type": "code",
   "execution_count": 4,
   "id": "8e519c69-2a57-451b-8b98-60883a42523d",
   "metadata": {},
   "outputs": [
    {
     "name": "stdout",
     "output_type": "stream",
     "text": [
      "Dataset loaded successfully.\n"
     ]
    },
    {
     "data": {
      "text/html": [
       "<div>\n",
       "<style scoped>\n",
       "    .dataframe tbody tr th:only-of-type {\n",
       "        vertical-align: middle;\n",
       "    }\n",
       "\n",
       "    .dataframe tbody tr th {\n",
       "        vertical-align: top;\n",
       "    }\n",
       "\n",
       "    .dataframe thead th {\n",
       "        text-align: right;\n",
       "    }\n",
       "</style>\n",
       "<table border=\"1\" class=\"dataframe\">\n",
       "  <thead>\n",
       "    <tr style=\"text-align: right;\">\n",
       "      <th></th>\n",
       "      <th>vm_id</th>\n",
       "      <th>timestamp</th>\n",
       "      <th>cpu_usage</th>\n",
       "      <th>memory_usage</th>\n",
       "      <th>network_traffic</th>\n",
       "      <th>power_consumption</th>\n",
       "      <th>num_executed_instructions</th>\n",
       "      <th>execution_time</th>\n",
       "      <th>energy_efficiency</th>\n",
       "      <th>task_type</th>\n",
       "      <th>task_priority</th>\n",
       "      <th>task_status</th>\n",
       "    </tr>\n",
       "  </thead>\n",
       "  <tbody>\n",
       "    <tr>\n",
       "      <th>0</th>\n",
       "      <td>c5215826-6237-4a33-9312-72c1df909881</td>\n",
       "      <td>2023-01-25 09:10:54</td>\n",
       "      <td>54.881350</td>\n",
       "      <td>78.950861</td>\n",
       "      <td>164.775973</td>\n",
       "      <td>287.808986</td>\n",
       "      <td>7527.0</td>\n",
       "      <td>69.345575</td>\n",
       "      <td>0.553589</td>\n",
       "      <td>network</td>\n",
       "      <td>medium</td>\n",
       "      <td>waiting</td>\n",
       "    </tr>\n",
       "    <tr>\n",
       "      <th>1</th>\n",
       "      <td>29690bc6-1f34-403b-b509-a1ecb1834fb8</td>\n",
       "      <td>2023-01-26 04:46:34</td>\n",
       "      <td>71.518937</td>\n",
       "      <td>29.901883</td>\n",
       "      <td>NaN</td>\n",
       "      <td>362.273569</td>\n",
       "      <td>5348.0</td>\n",
       "      <td>41.396040</td>\n",
       "      <td>0.349856</td>\n",
       "      <td>io</td>\n",
       "      <td>high</td>\n",
       "      <td>completed</td>\n",
       "    </tr>\n",
       "    <tr>\n",
       "      <th>2</th>\n",
       "      <td>2e55abc3-5bad-46cb-b445-a577f5e9bf2a</td>\n",
       "      <td>2023-01-13 23:39:47</td>\n",
       "      <td>NaN</td>\n",
       "      <td>92.709195</td>\n",
       "      <td>203.674847</td>\n",
       "      <td>231.467903</td>\n",
       "      <td>5483.0</td>\n",
       "      <td>24.602549</td>\n",
       "      <td>0.796277</td>\n",
       "      <td>io</td>\n",
       "      <td>medium</td>\n",
       "      <td>completed</td>\n",
       "    </tr>\n",
       "    <tr>\n",
       "      <th>3</th>\n",
       "      <td>e672e32f-c134-4fbc-992b-34eb63bef6bf</td>\n",
       "      <td>2023-02-09 11:45:49</td>\n",
       "      <td>54.488318</td>\n",
       "      <td>88.100960</td>\n",
       "      <td>NaN</td>\n",
       "      <td>195.639954</td>\n",
       "      <td>5876.0</td>\n",
       "      <td>16.456670</td>\n",
       "      <td>0.529511</td>\n",
       "      <td>compute</td>\n",
       "      <td>high</td>\n",
       "      <td>completed</td>\n",
       "    </tr>\n",
       "    <tr>\n",
       "      <th>4</th>\n",
       "      <td>f38b8b50-6926-4533-be4f-89ad11624071</td>\n",
       "      <td>2023-06-14 08:27:26</td>\n",
       "      <td>42.365480</td>\n",
       "      <td>NaN</td>\n",
       "      <td>NaN</td>\n",
       "      <td>359.451537</td>\n",
       "      <td>3361.0</td>\n",
       "      <td>55.307992</td>\n",
       "      <td>0.351907</td>\n",
       "      <td>NaN</td>\n",
       "      <td>medium</td>\n",
       "      <td>waiting</td>\n",
       "    </tr>\n",
       "  </tbody>\n",
       "</table>\n",
       "</div>"
      ],
      "text/plain": [
       "                                  vm_id            timestamp  cpu_usage  \\\n",
       "0  c5215826-6237-4a33-9312-72c1df909881  2023-01-25 09:10:54  54.881350   \n",
       "1  29690bc6-1f34-403b-b509-a1ecb1834fb8  2023-01-26 04:46:34  71.518937   \n",
       "2  2e55abc3-5bad-46cb-b445-a577f5e9bf2a  2023-01-13 23:39:47        NaN   \n",
       "3  e672e32f-c134-4fbc-992b-34eb63bef6bf  2023-02-09 11:45:49  54.488318   \n",
       "4  f38b8b50-6926-4533-be4f-89ad11624071  2023-06-14 08:27:26  42.365480   \n",
       "\n",
       "   memory_usage  network_traffic  power_consumption  \\\n",
       "0     78.950861       164.775973         287.808986   \n",
       "1     29.901883              NaN         362.273569   \n",
       "2     92.709195       203.674847         231.467903   \n",
       "3     88.100960              NaN         195.639954   \n",
       "4           NaN              NaN         359.451537   \n",
       "\n",
       "   num_executed_instructions  execution_time  energy_efficiency task_type  \\\n",
       "0                     7527.0       69.345575           0.553589   network   \n",
       "1                     5348.0       41.396040           0.349856        io   \n",
       "2                     5483.0       24.602549           0.796277        io   \n",
       "3                     5876.0       16.456670           0.529511   compute   \n",
       "4                     3361.0       55.307992           0.351907       NaN   \n",
       "\n",
       "  task_priority task_status  \n",
       "0        medium     waiting  \n",
       "1          high   completed  \n",
       "2        medium   completed  \n",
       "3          high   completed  \n",
       "4        medium     waiting  "
      ]
     },
     "execution_count": 4,
     "metadata": {},
     "output_type": "execute_result"
    }
   ],
   "source": [
    "import pandas as pd\n",
    "\n",
    "csv_path = \"vmCloud_data.csv\"\n",
    "Cloud_data = pd.read_csv(csv_path)\n",
    "print(\"Dataset loaded successfully.\")\n",
    "Cloud_data.head()\n"
   ]
  },
  {
   "cell_type": "code",
   "execution_count": 5,
   "id": "8db86803-11df-4803-b52d-ee0e1e46f8d0",
   "metadata": {},
   "outputs": [
    {
     "name": "stdout",
     "output_type": "stream",
     "text": [
      "Columns in dataset: ['vm_id', 'timestamp', 'cpu_usage', 'memory_usage', 'network_traffic', 'power_consumption', 'num_executed_instructions', 'execution_time', 'energy_efficiency', 'task_type', 'task_priority', 'task_status']\n"
     ]
    }
   ],
   "source": [
    "print(\"Columns in dataset:\", Cloud_data.columns.tolist())\n"
   ]
  },
  {
   "cell_type": "code",
   "execution_count": 6,
   "id": "d97b37b5-f86c-49a1-adca-917cf48f16e9",
   "metadata": {},
   "outputs": [],
   "source": [
    "from sklearn.preprocessing import MinMaxScaler\n",
    "\n",
    "# Fill numeric missing values with mean\n",
    "Cloud_data.fillna(Cloud_data.mean(numeric_only=True), inplace=True)\n",
    "\n",
    "# Fill categorical missing values with mode\n",
    "for column in ['task_type', 'task_priority', 'task_status']:\n",
    "    Cloud_data[column] = Cloud_data[column].fillna(Cloud_data[column].mode()[0])\n"
   ]
  },
  {
   "cell_type": "code",
   "execution_count": 7,
   "id": "2f268795-7a3d-407d-81f3-ad5b6799fe7e",
   "metadata": {},
   "outputs": [
    {
     "name": "stdout",
     "output_type": "stream",
     "text": [
      "Normalization complete.\n"
     ]
    },
    {
     "data": {
      "text/html": [
       "<div>\n",
       "<style scoped>\n",
       "    .dataframe tbody tr th:only-of-type {\n",
       "        vertical-align: middle;\n",
       "    }\n",
       "\n",
       "    .dataframe tbody tr th {\n",
       "        vertical-align: top;\n",
       "    }\n",
       "\n",
       "    .dataframe thead th {\n",
       "        text-align: right;\n",
       "    }\n",
       "</style>\n",
       "<table border=\"1\" class=\"dataframe\">\n",
       "  <thead>\n",
       "    <tr style=\"text-align: right;\">\n",
       "      <th></th>\n",
       "      <th>vm_id</th>\n",
       "      <th>timestamp</th>\n",
       "      <th>cpu_usage</th>\n",
       "      <th>memory_usage</th>\n",
       "      <th>network_traffic</th>\n",
       "      <th>power_consumption</th>\n",
       "      <th>num_executed_instructions</th>\n",
       "      <th>execution_time</th>\n",
       "      <th>energy_efficiency</th>\n",
       "      <th>task_type</th>\n",
       "      <th>task_priority</th>\n",
       "      <th>task_status</th>\n",
       "    </tr>\n",
       "  </thead>\n",
       "  <tbody>\n",
       "    <tr>\n",
       "      <th>0</th>\n",
       "      <td>c5215826-6237-4a33-9312-72c1df909881</td>\n",
       "      <td>2023-01-25 09:10:54</td>\n",
       "      <td>0.548813</td>\n",
       "      <td>0.789509</td>\n",
       "      <td>0.164776</td>\n",
       "      <td>0.575619</td>\n",
       "      <td>0.752775</td>\n",
       "      <td>0.693456</td>\n",
       "      <td>0.553589</td>\n",
       "      <td>network</td>\n",
       "      <td>medium</td>\n",
       "      <td>waiting</td>\n",
       "    </tr>\n",
       "    <tr>\n",
       "      <th>1</th>\n",
       "      <td>29690bc6-1f34-403b-b509-a1ecb1834fb8</td>\n",
       "      <td>2023-01-26 04:46:34</td>\n",
       "      <td>0.715189</td>\n",
       "      <td>0.299019</td>\n",
       "      <td>0.500008</td>\n",
       "      <td>0.724548</td>\n",
       "      <td>0.534853</td>\n",
       "      <td>0.413960</td>\n",
       "      <td>0.349856</td>\n",
       "      <td>io</td>\n",
       "      <td>high</td>\n",
       "      <td>completed</td>\n",
       "    </tr>\n",
       "    <tr>\n",
       "      <th>2</th>\n",
       "      <td>2e55abc3-5bad-46cb-b445-a577f5e9bf2a</td>\n",
       "      <td>2023-01-13 23:39:47</td>\n",
       "      <td>0.500122</td>\n",
       "      <td>0.927093</td>\n",
       "      <td>0.203675</td>\n",
       "      <td>0.462936</td>\n",
       "      <td>0.548355</td>\n",
       "      <td>0.246026</td>\n",
       "      <td>0.796277</td>\n",
       "      <td>io</td>\n",
       "      <td>medium</td>\n",
       "      <td>completed</td>\n",
       "    </tr>\n",
       "    <tr>\n",
       "      <th>3</th>\n",
       "      <td>e672e32f-c134-4fbc-992b-34eb63bef6bf</td>\n",
       "      <td>2023-02-09 11:45:49</td>\n",
       "      <td>0.544883</td>\n",
       "      <td>0.881010</td>\n",
       "      <td>0.500008</td>\n",
       "      <td>0.391280</td>\n",
       "      <td>0.587659</td>\n",
       "      <td>0.164567</td>\n",
       "      <td>0.529511</td>\n",
       "      <td>compute</td>\n",
       "      <td>high</td>\n",
       "      <td>completed</td>\n",
       "    </tr>\n",
       "    <tr>\n",
       "      <th>4</th>\n",
       "      <td>f38b8b50-6926-4533-be4f-89ad11624071</td>\n",
       "      <td>2023-06-14 08:27:26</td>\n",
       "      <td>0.423655</td>\n",
       "      <td>0.499819</td>\n",
       "      <td>0.500008</td>\n",
       "      <td>0.718904</td>\n",
       "      <td>0.336134</td>\n",
       "      <td>0.553080</td>\n",
       "      <td>0.351907</td>\n",
       "      <td>io</td>\n",
       "      <td>medium</td>\n",
       "      <td>waiting</td>\n",
       "    </tr>\n",
       "  </tbody>\n",
       "</table>\n",
       "</div>"
      ],
      "text/plain": [
       "                                  vm_id            timestamp  cpu_usage  \\\n",
       "0  c5215826-6237-4a33-9312-72c1df909881  2023-01-25 09:10:54   0.548813   \n",
       "1  29690bc6-1f34-403b-b509-a1ecb1834fb8  2023-01-26 04:46:34   0.715189   \n",
       "2  2e55abc3-5bad-46cb-b445-a577f5e9bf2a  2023-01-13 23:39:47   0.500122   \n",
       "3  e672e32f-c134-4fbc-992b-34eb63bef6bf  2023-02-09 11:45:49   0.544883   \n",
       "4  f38b8b50-6926-4533-be4f-89ad11624071  2023-06-14 08:27:26   0.423655   \n",
       "\n",
       "   memory_usage  network_traffic  power_consumption  \\\n",
       "0      0.789509         0.164776           0.575619   \n",
       "1      0.299019         0.500008           0.724548   \n",
       "2      0.927093         0.203675           0.462936   \n",
       "3      0.881010         0.500008           0.391280   \n",
       "4      0.499819         0.500008           0.718904   \n",
       "\n",
       "   num_executed_instructions  execution_time  energy_efficiency task_type  \\\n",
       "0                   0.752775        0.693456           0.553589   network   \n",
       "1                   0.534853        0.413960           0.349856        io   \n",
       "2                   0.548355        0.246026           0.796277        io   \n",
       "3                   0.587659        0.164567           0.529511   compute   \n",
       "4                   0.336134        0.553080           0.351907        io   \n",
       "\n",
       "  task_priority task_status  \n",
       "0        medium     waiting  \n",
       "1          high   completed  \n",
       "2        medium   completed  \n",
       "3          high   completed  \n",
       "4        medium     waiting  "
      ]
     },
     "execution_count": 7,
     "metadata": {},
     "output_type": "execute_result"
    }
   ],
   "source": [
    "columns_to_normalize = ['cpu_usage', 'memory_usage', 'network_traffic', \n",
    "                        'power_consumption', 'num_executed_instructions', \n",
    "                        'execution_time', 'energy_efficiency']\n",
    "\n",
    "scaler = MinMaxScaler()\n",
    "Cloud_data[columns_to_normalize] = scaler.fit_transform(Cloud_data[columns_to_normalize])\n",
    "\n",
    "print(\"Normalization complete.\")\n",
    "Cloud_data.head()\n"
   ]
  },
  {
   "cell_type": "code",
   "execution_count": 8,
   "id": "b3df4d46-1630-4b47-942d-866b0c02cdfe",
   "metadata": {},
   "outputs": [],
   "source": [
    "from sklearn.preprocessing import LabelEncoder\n",
    "\n",
    "label_columns = ['task_type', 'task_priority', 'task_status']\n",
    "label_encoders = {}\n",
    "\n",
    "for column in label_columns:\n",
    "    le = LabelEncoder()\n",
    "    Cloud_data[column] = le.fit_transform(Cloud_data[column])\n",
    "    label_encoders[column] = le\n"
   ]
  },
  {
   "cell_type": "code",
   "execution_count": 9,
   "id": "b44aa4bd-f6f0-442c-a0e2-9d01fb62d379",
   "metadata": {},
   "outputs": [],
   "source": [
    "Cloud_data['timestamp'] = pd.to_datetime(Cloud_data['timestamp'])\n",
    "Cloud_data['hour_of_day'] = Cloud_data['timestamp'].dt.hour\n",
    "Cloud_data['day_of_week'] = Cloud_data['timestamp'].dt.dayofweek\n"
   ]
  },
  {
   "cell_type": "code",
   "execution_count": 10,
   "id": "dcc9f938-4752-4e52-8d27-58eadebc5c82",
   "metadata": {},
   "outputs": [],
   "source": [
    "Cloud_data.sort_values('timestamp', inplace=True)\n",
    "Cloud_data['cpu_usage_7d_avg'] = Cloud_data['cpu_usage'].rolling(window=7, min_periods=1).mean()\n",
    "Cloud_data['memory_usage_7d_avg'] = Cloud_data['memory_usage'].rolling(window=7, min_periods=1).mean()\n"
   ]
  },
  {
   "cell_type": "code",
   "execution_count": 11,
   "id": "03cd8d20-e1a2-4f2a-bb3f-a519907a5ad5",
   "metadata": {},
   "outputs": [
    {
     "name": "stdout",
     "output_type": "stream",
     "text": [
      "NaN in cpu_usage_7d_avg: 0\n",
      "NaN in memory_usage_7d_avg: 0\n",
      "First rows:\n",
      "                                         vm_id           timestamp  cpu_usage  \\\n",
      "454771   a5ee77f0-5a60-474d-8a66-11bf38337326 2023-01-01 00:00:09   0.632821   \n",
      "969844                                    NaN 2023-01-01 00:00:15   0.307198   \n",
      "898414   fe5e04e3-4ea4-48cf-a193-3f58abd147ed 2023-01-01 00:00:31   0.140195   \n",
      "197262   caf092f0-55c3-4486-a295-f04a9a2c6406 2023-01-01 00:00:36   0.931486   \n",
      "1505883  ca081259-cb36-4c07-a7db-5af5f8676930 2023-01-01 00:00:40   0.990775   \n",
      "\n",
      "         memory_usage  network_traffic  power_consumption  \\\n",
      "454771       0.499819         0.212708           0.716255   \n",
      "969844       0.891993         0.604264           0.651642   \n",
      "898414       0.743673         0.600521           0.737472   \n",
      "197262       0.689791         0.621710           0.316036   \n",
      "1505883      0.714444         0.760885           0.392749   \n",
      "\n",
      "         num_executed_instructions  execution_time  energy_efficiency  \\\n",
      "454771                    0.398340        0.453030           0.681050   \n",
      "969844                    0.500240        0.032324           0.992169   \n",
      "898414                    0.824082        0.507424           0.639539   \n",
      "197262                    0.208521        0.531899           0.500252   \n",
      "1505883                   0.079208        0.170323           0.678037   \n",
      "\n",
      "         task_type  task_priority  task_status  hour_of_day  day_of_week  \\\n",
      "454771           1              0            1          0.0          6.0   \n",
      "969844           2              0            0          0.0          6.0   \n",
      "898414           2              2            2          0.0          6.0   \n",
      "197262           0              1            0          0.0          6.0   \n",
      "1505883          2              1            2          0.0          6.0   \n",
      "\n",
      "         cpu_usage_7d_avg  memory_usage_7d_avg  \n",
      "454771           0.632821             0.499819  \n",
      "969844           0.470009             0.695906  \n",
      "898414           0.360071             0.711829  \n",
      "197262           0.502925             0.706319  \n",
      "1505883          0.600495             0.707944  \n",
      "Last rows:\n",
      "                                         vm_id timestamp  cpu_usage  \\\n",
      "1999953  57693afd-8575-4383-a7db-deef0d3d8a39       NaT   0.733586   \n",
      "1999955  7e251b0a-ec37-4c5b-b9c5-7d8b04b8b314       NaT   0.220334   \n",
      "1999973  68268879-da78-4ee1-b1f9-f30147ee97ff       NaT   0.069736   \n",
      "1999984  5ed1a3e1-e452-427d-9c5c-e9e8172aec84       NaT   0.877969   \n",
      "1999987  ede8c987-eaa2-4c72-a66a-12833d8c6572       NaT   0.834576   \n",
      "\n",
      "         memory_usage  network_traffic  power_consumption  \\\n",
      "1999953      0.107162         0.950231           0.496100   \n",
      "1999955      0.984770         0.605308           0.227560   \n",
      "1999973      0.334394         0.043434           0.381808   \n",
      "1999984      0.835626         0.841659           0.553084   \n",
      "1999987      0.486765         0.761755           0.377376   \n",
      "\n",
      "         num_executed_instructions  execution_time  energy_efficiency  \\\n",
      "1999953                   0.467947        0.347128           0.046542   \n",
      "1999955                   0.327433        0.864342           0.179464   \n",
      "1999973                   0.500240        0.591474           0.227719   \n",
      "1999984                   0.500240        0.744666           0.484849   \n",
      "1999987                   0.797680        0.054224           0.023037   \n",
      "\n",
      "         task_type  task_priority  task_status  hour_of_day  day_of_week  \\\n",
      "1999953          2              1            2          NaN          NaN   \n",
      "1999955          2              2            1          NaN          NaN   \n",
      "1999973          0              0            2          NaN          NaN   \n",
      "1999984          1              0            2          NaN          NaN   \n",
      "1999987          1              0            0          NaN          NaN   \n",
      "\n",
      "         cpu_usage_7d_avg  memory_usage_7d_avg  \n",
      "1999953          0.588810             0.437180  \n",
      "1999955          0.497568             0.486522  \n",
      "1999973          0.396195             0.462890  \n",
      "1999984          0.386308             0.474981  \n",
      "1999987          0.445942             0.506655  \n"
     ]
    }
   ],
   "source": [
    "print(\"NaN in cpu_usage_7d_avg:\", Cloud_data['cpu_usage_7d_avg'].isnull().sum())\n",
    "print(\"NaN in memory_usage_7d_avg:\", Cloud_data['memory_usage_7d_avg'].isnull().sum())\n",
    "print(\"First rows:\\n\", Cloud_data.head())\n",
    "print(\"Last rows:\\n\", Cloud_data.tail())\n"
   ]
  },
  {
   "cell_type": "code",
   "execution_count": 14,
   "id": "202247c5-003c-4381-8773-1fff80eecaa3",
   "metadata": {},
   "outputs": [
    {
     "data": {
      "image/png": "[encoded data removed]",
      "text/plain": [
       "<Figure size 1000x600 with 1 Axes>"
      ]
     },
     "metadata": {},
     "output_type": "display_data"
    }
   ],
   "source": [
    "import matplotlib.pyplot as plt\n",
    "\n",
    "plt.figure(figsize=(10, 6))\n",
    "plt.plot(Cloud_data['timestamp'], Cloud_data['cpu_usage'], label='CPU Usage')\n",
    "plt.plot(Cloud_data['timestamp'], Cloud_data['cpu_usage_7d_avg'], label='7-Day Rolling Avg of CPU Usage', linestyle='--')\n",
    "plt.xlabel('Timestamp')\n",
    "plt.ylabel('CPU Usage')\n",
    "plt.title('CPU Usage and 7-Day Rolling Average')\n",
    "plt.legend(loc='upper right')  # Set legend position\n",
    "plt.show()\n"
   ]
  },
  {
   "cell_type": "code",
   "execution_count": 16,
   "id": "df0c4fbb-20e9-4d0b-a838-983370e4124f",
   "metadata": {},
   "outputs": [
    {
     "data": {
      "image/png": "[encoded data removed]",
      "text/plain": [
       "<Figure size 1000x600 with 1 Axes>"
      ]
     },
     "metadata": {},
     "output_type": "display_data"
    }
   ],
   "source": [
    "# Plotting the memory usage and its 7-day rolling avg\n",
    "import matplotlib.pyplot as plt  # Make sure it's imported\n",
    "\n",
    "plt.figure(figsize=(10, 6))\n",
    "plt.plot(Cloud_data['timestamp'], Cloud_data['memory_usage'], label='Memory Usage')\n",
    "plt.plot(Cloud_data['timestamp'], Cloud_data['memory_usage_7d_avg'], label='7-Day Rolling Avg of Memory Usage', linestyle='--')\n",
    "plt.xlabel('Timestamp')\n",
    "plt.ylabel('Memory Usage')\n",
    "plt.title('Memory Usage and 7-Day Rolling Average')\n",
    "plt.legend(loc='upper right')  # Set static legend position\n",
    "plt.show()\n"
   ]
  },
  {
   "cell_type": "code",
   "execution_count": 17,
   "id": "23076ee8-e494-4011-b42a-ed515d25773c",
   "metadata": {},
   "outputs": [],
   "source": [
    "from sklearn.impute import SimpleImputer\n",
    "\n",
    "Cloud_data_processed = Cloud_data.drop(['timestamp', 'task_type', 'task_priority', 'task_status', 'vm_id'], axis=1)\n",
    "Cloud_data_processed = Cloud_data_processed.apply(pd.to_numeric, errors='coerce')\n"
   ]
  },
  {
   "cell_type": "code",
   "execution_count": 18,
   "id": "5495bf90-f43a-486f-b183-9c7ebd90b76f",
   "metadata": {},
   "outputs": [],
   "source": [
    "imputer = SimpleImputer(strategy='mean')\n",
    "Cloud_data_imputed_array = imputer.fit_transform(Cloud_data_processed)\n",
    "\n",
    "Cloud_data_processed_imputed = pd.DataFrame(Cloud_data_imputed_array, columns=Cloud_data_processed.columns)\n"
   ]
  },
  {
   "cell_type": "code",
   "execution_count": 19,
   "id": "f55056a7-fa29-4497-ad9b-f74cccebef57",
   "metadata": {},
   "outputs": [
    {
     "name": "stdout",
     "output_type": "stream",
     "text": [
      "Training shape: (1600000, 8) (1600000, 3)\n",
      "Testing shape: (400000, 8) (400000, 3)\n"
     ]
    }
   ],
   "source": [
    "from sklearn.model_selection import train_test_split\n",
    "\n",
    "X = Cloud_data_processed_imputed.drop(['cpu_usage', 'memory_usage', 'network_traffic'], axis=1)\n",
    "y = Cloud_data_processed_imputed[['cpu_usage', 'memory_usage', 'network_traffic']]\n",
    "\n",
    "X_train, X_test, y_train, y_test = train_test_split(X, y, test_size=0.2, random_state=42)\n",
    "\n",
    "print(\"Training shape:\", X_train.shape, y_train.shape)\n",
    "print(\"Testing shape:\", X_test.shape, y_test.shape)\n"
   ]
  },
  {
   "cell_type": "code",
   "execution_count": 20,
   "id": "fdd0c764-1859-4c1f-bd9e-3fdb7e82d6ba",
   "metadata": {},
   "outputs": [
    {
     "name": "stdout",
     "output_type": "stream",
     "text": [
      "Training LightGBM model for target: cpu_usage\n",
      "[LightGBM] [Info] Auto-choosing col-wise multi-threading, the overhead of testing was 0.020313 seconds.\n",
      "You can set `force_col_wise=true` to remove the overhead.\n",
      "[LightGBM] [Info] Total Bins 1563\n",
      "[LightGBM] [Info] Number of data points in the train set: 1600000, number of used features: 8\n",
      "[LightGBM] [Info] Start training from score 0.500127\n",
      "Training LightGBM model for target: memory_usage\n",
      "[LightGBM] [Info] Auto-choosing col-wise multi-threading, the overhead of testing was 0.017248 seconds.\n",
      "You can set `force_col_wise=true` to remove the overhead.\n",
      "[LightGBM] [Info] Total Bins 1563\n",
      "[LightGBM] [Info] Number of data points in the train set: 1600000, number of used features: 8\n",
      "[LightGBM] [Info] Start training from score 0.499858\n",
      "Training LightGBM model for target: network_traffic\n",
      "[LightGBM] [Info] Auto-choosing col-wise multi-threading, the overhead of testing was 0.025106 seconds.\n",
      "You can set `force_col_wise=true` to remove the overhead.\n",
      "[LightGBM] [Info] Total Bins 1563\n",
      "[LightGBM] [Info] Number of data points in the train set: 1600000, number of used features: 8\n",
      "[LightGBM] [Info] Start training from score 0.500162\n"
     ]
    }
   ],
   "source": [
    "import lightgbm as lgb\n",
    "\n",
    "models_lgbm = {}\n",
    "predictions_lgbm = {}\n",
    "\n",
    "for target in y_train.columns:\n",
    "    print(f\"Training LightGBM model for target: {target}\")\n",
    "    model = lgb.LGBMRegressor(n_estimators=100, learning_rate=0.1, num_leaves=31, random_state=42)\n",
    "    model.fit(X_train, y_train[target])\n",
    "    models_lgbm[target] = model\n",
    "    predictions_lgbm[target] = model.predict(X_test)\n"
   ]
  },
  {
   "cell_type": "code",
   "execution_count": 21,
   "id": "635cd0d1-c910-41ac-ae02-f9f827a8ae10",
   "metadata": {},
   "outputs": [
    {
     "name": "stdout",
     "output_type": "stream",
     "text": [
      "Model trained with these features:\n",
      "['power_consumption', 'num_executed_instructions', 'execution_time', 'energy_efficiency', 'hour_of_day', 'day_of_week', 'cpu_usage_7d_avg', 'memory_usage_7d_avg']\n"
     ]
    }
   ],
   "source": [
    "# After training your LightGBM model\n",
    "print(\"Model trained with these features:\")\n",
    "print(model.feature_name_)\n"
   ]
  },
  {
   "cell_type": "code",
   "execution_count": 22,
   "id": "57340f01-ac3b-494f-86b0-167c1c849324",
   "metadata": {},
   "outputs": [
    {
     "name": "stdout",
     "output_type": "stream",
     "text": [
      "✅ Model saved to: C:\\Users\\yashraj\\eclipse-workspace\\cloudsim303\\python_api\\models\\lgbm_cpu_usage.joblib\n"
     ]
    }
   ],
   "source": [
    "import joblib\n",
    "import os\n",
    "\n",
    "# Set the full path to your Eclipse models folder\n",
    "models_dir = r\"C:\\Users\\yashraj\\eclipse-workspace\\cloudsim303\\python_api\\models\"\n",
    "os.makedirs(models_dir, exist_ok=True)\n",
    "\n",
    "# Replace with your actual model object\n",
    "model = models_lgbm['cpu_usage']  \n",
    "\n",
    "# Define full model path\n",
    "model_path = os.path.join(models_dir, \"lgbm_cpu_usage.joblib\")\n",
    "joblib.dump(model, model_path)\n",
    "\n",
    "# Print confirmation\n",
    "print(f\"✅ Model saved to: {model_path}\")\n"
   ]
  },
  {
   "cell_type": "code",
   "execution_count": 23,
   "id": "7a0f82dc-e9ad-4352-a302-5b077ab8568a",
   "metadata": {},
   "outputs": [
    {
     "name": "stdout",
     "output_type": "stream",
     "text": [
      "✅ CPU model saved to: C:\\Users\\yashraj\\eclipse-workspace\\cloudsim303\\python_api\\models\\lgbm_cpu_usage.joblib\n",
      "✅ Memory model saved to: C:\\Users\\yashraj\\eclipse-workspace\\cloudsim303\\python_api\\models\\lgbm_memory_usage.joblib\n"
     ]
    }
   ],
   "source": [
    "import joblib\n",
    "import os\n",
    "\n",
    "# Set the full path to your Eclipse models folder\n",
    "models_dir = r\"C:\\Users\\yashraj\\eclipse-workspace\\cloudsim303\\python_api\\models\"\n",
    "os.makedirs(models_dir, exist_ok=True)\n",
    "\n",
    "# Save CPU usage model\n",
    "cpu_model = models_lgbm['cpu_usage']\n",
    "cpu_model_path = os.path.join(models_dir, \"lgbm_cpu_usage.joblib\")\n",
    "joblib.dump(cpu_model, cpu_model_path)\n",
    "print(f\"✅ CPU model saved to: {cpu_model_path}\")\n",
    "\n",
    "# Save Memory usage model\n",
    "mem_model = models_lgbm['memory_usage']\n",
    "mem_model_path = os.path.join(models_dir, \"lgbm_memory_usage.joblib\")\n",
    "joblib.dump(mem_model, mem_model_path)\n",
    "print(f\"✅ Memory model saved to: {mem_model_path}\")\n"
   ]
  },
  {
   "cell_type": "code",
   "execution_count": 24,
   "id": "50cf0579-847d-4458-8432-184971f3b7ec",
   "metadata": {},
   "outputs": [
    {
     "name": "stdout",
     "output_type": "stream",
     "text": [
      "✅ Network traffic model saved to: C:\\Users\\yashraj\\eclipse-workspace\\cloudsim303\\python_api\\models\\lgbm_network_traffic.joblib\n"
     ]
    }
   ],
   "source": [
    "import joblib\n",
    "import os\n",
    "\n",
    "# Set the correct model directory path\n",
    "models_dir = r\"C:\\Users\\yashraj\\eclipse-workspace\\cloudsim303\\python_api\\models\"\n",
    "os.makedirs(models_dir, exist_ok=True)\n",
    "\n",
    "# Save network traffic model\n",
    "model = models_lgbm['network_traffic']\n",
    "model_path = os.path.join(models_dir, \"lgbm_network_traffic.joblib\")\n",
    "joblib.dump(model, model_path)\n",
    "\n",
    "print(f\"✅ Network traffic model saved to: {model_path}\")\n"
   ]
  },
  {
   "cell_type": "code",
   "execution_count": 25,
   "id": "73115758-88aa-4d36-a4f2-e383d993a1f4",
   "metadata": {},
   "outputs": [
    {
     "data": {
      "text/html": [
       "<div>\n",
       "<style scoped>\n",
       "    .dataframe tbody tr th:only-of-type {\n",
       "        vertical-align: middle;\n",
       "    }\n",
       "\n",
       "    .dataframe tbody tr th {\n",
       "        vertical-align: top;\n",
       "    }\n",
       "\n",
       "    .dataframe thead th {\n",
       "        text-align: right;\n",
       "    }\n",
       "</style>\n",
       "<table border=\"1\" class=\"dataframe\">\n",
       "  <thead>\n",
       "    <tr style=\"text-align: right;\">\n",
       "      <th></th>\n",
       "      <th>cpu_usage</th>\n",
       "      <th>memory_usage</th>\n",
       "      <th>network_traffic</th>\n",
       "    </tr>\n",
       "  </thead>\n",
       "  <tbody>\n",
       "    <tr>\n",
       "      <th>1828401</th>\n",
       "      <td>0.435887</td>\n",
       "      <td>0.510303</td>\n",
       "      <td>0.502599</td>\n",
       "    </tr>\n",
       "    <tr>\n",
       "      <th>1200071</th>\n",
       "      <td>0.458151</td>\n",
       "      <td>0.511440</td>\n",
       "      <td>0.501555</td>\n",
       "    </tr>\n",
       "    <tr>\n",
       "      <th>194849</th>\n",
       "      <td>0.475205</td>\n",
       "      <td>0.596958</td>\n",
       "      <td>0.500102</td>\n",
       "    </tr>\n",
       "    <tr>\n",
       "      <th>1629054</th>\n",
       "      <td>0.320305</td>\n",
       "      <td>0.462818</td>\n",
       "      <td>0.500288</td>\n",
       "    </tr>\n",
       "    <tr>\n",
       "      <th>191144</th>\n",
       "      <td>0.638881</td>\n",
       "      <td>0.434619</td>\n",
       "      <td>0.500300</td>\n",
       "    </tr>\n",
       "  </tbody>\n",
       "</table>\n",
       "</div>"
      ],
      "text/plain": [
       "         cpu_usage  memory_usage  network_traffic\n",
       "1828401   0.435887      0.510303         0.502599\n",
       "1200071   0.458151      0.511440         0.501555\n",
       "194849    0.475205      0.596958         0.500102\n",
       "1629054   0.320305      0.462818         0.500288\n",
       "191144    0.638881      0.434619         0.500300"
      ]
     },
     "execution_count": 25,
     "metadata": {},
     "output_type": "execute_result"
    }
   ],
   "source": [
    "import pandas as pd\n",
    "\n",
    "# Combine LightGBM predictions into a DataFrame\n",
    "y_pred_df = pd.DataFrame(predictions_lgbm, index=X_test.index)\n",
    "y_pred_df.head()\n"
   ]
  },
  {
   "cell_type": "code",
   "execution_count": 26,
   "id": "4dfa6c32-0b21-49c2-b86e-cdc67cee40b7",
   "metadata": {},
   "outputs": [
    {
     "name": "stdout",
     "output_type": "stream",
     "text": [
      "Evaluation (RMSE) for LightGBM predictions:\n",
      "\n",
      "cpu_usage: RMSE = 0.2540\n",
      "memory_usage: RMSE = 0.2532\n",
      "network_traffic: RMSE = 0.2740\n"
     ]
    }
   ],
   "source": [
    "from sklearn.metrics import mean_squared_error\n",
    "import numpy as np\n",
    "\n",
    "print(\"Evaluation (RMSE) for LightGBM predictions:\\n\")\n",
    "for target in y_test.columns:\n",
    "    rmse = np.sqrt(mean_squared_error(y_test[target], y_pred_df[target]))\n",
    "    print(f\"{target}: RMSE = {rmse:.4f}\")\n"
   ]
  },
  {
   "cell_type": "code",
   "execution_count": 27,
   "id": "0f62600e-a8fe-441f-a66a-27128c79a6ed",
   "metadata": {},
   "outputs": [
    {
     "name": "stdout",
     "output_type": "stream",
     "text": [
      "All LightGBM models saved in 'models/' directory.\n"
     ]
    }
   ],
   "source": [
    "import joblib\n",
    "import os\n",
    "\n",
    "# Create directory if not exists\n",
    "os.makedirs(\"models\", exist_ok=True)\n",
    "\n",
    "# Save all LightGBM models\n",
    "for target, model in models_lgbm.items():\n",
    "    joblib.dump(model, f\"models/lgbm_{target}.joblib\")\n",
    "\n",
    "print(\"All LightGBM models saved in 'models/' directory.\")\n"
   ]
  },
  {
   "cell_type": "code",
   "execution_count": 28,
   "id": "577ea754-abc8-43be-860f-c5d9249b8650",
   "metadata": {},
   "outputs": [
    {
     "name": "stdout",
     "output_type": "stream",
     "text": [
      "Predictions saved to 'predictions_lightgbm.csv'\n"
     ]
    }
   ],
   "source": [
    "# Save LightGBM predictions to a CSV file\n",
    "y_pred_df.to_csv(\"predictions_lightgbm.csv\", index=False)\n",
    "print(\"Predictions saved to 'predictions_lightgbm.csv'\")\n"
   ]
  },
  {
   "cell_type": "code",
   "execution_count": 29,
   "id": "79929905-18ef-4673-98e8-1d7dac9c0a40",
   "metadata": {},
   "outputs": [],
   "source": [
    "import os\n",
    "models_dir = \"models\"\n"
   ]
  }
 ],
 "metadata": {
  "kernelspec": {
   "display_name": "Python 3 (ipykernel)",
   "language": "python",
   "name": "python3"
  },
  "language_info": {
   "codemirror_mode": {
    "name": "ipython",
    "version": 3
   },
   "file_extension": ".py",
   "mimetype": "text/x-python",
   "name": "python",
   "nbconvert_exporter": "python",
   "pygments_lexer": "ipython3",
   "version": "3.12.6"
  }
 },
 "nbformat": 4,
 "nbformat_minor": 5
}
